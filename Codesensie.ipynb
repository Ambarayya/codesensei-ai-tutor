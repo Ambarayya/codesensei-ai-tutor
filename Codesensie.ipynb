{
 "cells": [
  {
   "cell_type": "markdown",
   "metadata": {
    "id": "NiFPuIfxu1lM"
   },
   "source": [
    "# CodeSensei: AI-Powered Learning From Youtube Tutorials\n",
    "\n",
    "**CodeSensei** is an intelligent, interactive assistant built to help learners understand  programming by analyzing educational YouTube videos. It leverages Large Language Models (LLMs) to provide level-specific explanations, concept breakdowns, quizzes, and code debugging support.\n",
    "\n",
    "---\n",
    "\n",
    "### Key Features\n",
    "\n",
    "- **Multi-Video Analysis**: Analyze and summarize multiple YouTube videos on the same topic.\n",
    "- **Skill-Level Personalization**: Tailored explanations for Beginner, Intermediate, and Advanced learners.\n",
    "- **Topic Breakdown with Timestamps**: Extract key concepts with precise time mappings from transcripts.\n",
    "- **Multi-Video Concept Aggregation**: Combines overlapping concepts across videos and presents the best explanations.\n",
    "- **LLM-Based Summarization**: Uses the LLaMA 3 (Groq API) model for natural language summarization and instruction.\n",
    "- **Quiz Generator**: Automatically generates quizzes based on full video content and evaluates user answers.\n",
    "- **Python Code Debugging**: Upload or paste code to receive structured feedback, optimization tips, and detailed explanations.\n",
    "\n",
    "---\n",
    "\n",
    "**Technologies Used**: Python 3.10+, Google Colab, Groq API (LLaMA 3), YouTube Transcript API, ipywidgets\n",
    "\n"
   ]
  },
  {
   "cell_type": "markdown",
   "metadata": {
    "id": "8Il9s2hr25RR"
   },
   "source": [
    "**Install Required Packages**"
   ]
  },
  {
   "cell_type": "code",
   "execution_count": null,
   "metadata": {
    "id": "NOIQ-EFMfY95"
   },
   "outputs": [],
   "source": [
    "import nbformat\n",
    "import json\n",
    "\n",
    "# Path to your current Colab notebook (save to Google Drive first)\n",
    "notebook_path = '/content/Codesensie_fixed.ipynb'\n",
    "\n",
    "# Create a copy of current notebook without broken widget metadata\n",
    "def clean_metadata():\n",
    "    import IPython\n",
    "    from google.colab import _message\n",
    "\n",
    "    # Get current notebook content as a dictionary\n",
    "    response = _message.blocking_request('get_ipynb')\n",
    "    nb_dict = response['ipynb']\n",
    "\n",
    "    # Load the dictionary into an nbformat object\n",
    "    nb = nbformat.from_dict(nb_dict)\n",
    "\n",
    "    # Remove broken widget metadata if it exists\n",
    "    if 'widgets' in nb['metadata']:\n",
    "        del nb['metadata']['widgets']\n",
    "\n",
    "    # Save cleaned notebook\n",
    "    with open(notebook_path, 'w', encoding='utf-8') as f:\n",
    "        nbformat.write(nb, f)\n",
    "\n",
    "    print(f\"✅ Cleaned notebook saved to: {notebook_path}\")\n",
    "\n",
    "clean_metadata()"
   ]
  },
  {
   "cell_type": "code",
   "execution_count": null,
   "metadata": {
    "id": "90SR7wNZS7hw"
   },
   "outputs": [],
   "source": [
    "\n",
    "!pip install --quiet youtube-transcript-api groq python-dotenv ipywidgets\n",
    "\n"
   ]
  },
  {
   "cell_type": "markdown",
   "metadata": {
    "id": "2Pq2s0nN3BL5"
   },
   "source": [
    "**Import Libraries and Setup**"
   ]
  },
  {
   "cell_type": "code",
   "execution_count": null,
   "metadata": {
    "id": "YuvLdr2fTp7B"
   },
   "outputs": [],
   "source": [
    "import os\n",
    "import re\n",
    "import datetime\n",
    "from IPython.display import display, Markdown, clear_output\n",
    "import ipywidgets as widgets\n",
    "from youtube_transcript_api import YouTubeTranscriptApi, NoTranscriptFound, TranscriptsDisabled, VideoUnavailable\n",
    "from groq import Groq\n",
    "\n",
    "api_key = \"Add your API Key\"\n",
    "client = Groq(api_key=api_key)\n",
    "\n",
    "#  Multi-video storage setup\n",
    "multi_video_data = {\n",
    "    \"videos\": [],        # Individual results per video\n",
    "    \"combined_text\": \"\", # Merged unique content\n",
    "}\n"
   ]
  },
  {
   "cell_type": "markdown",
   "metadata": {
    "id": "YiGFRbEk3Kgg"
   },
   "source": [
    "**Get YouTube Transcript**\n",
    "\n",
    "This function extracts the video ID from a multiple YouTube URL and attempts to fetch the English transcript using the YouTubeTranscriptApi. If the official transcript isn't found, it tries to get an auto-generated one; otherwise, it returns an appropriate error."
   ]
  },
  {
   "cell_type": "code",
   "execution_count": null,
   "metadata": {
    "id": "T4ekbmeUUSvi"
   },
   "outputs": [],
   "source": [
    "def extract_video_id(url):\n",
    "    match = re.search(r'(?:v=|youtu\\.be/|embed/|v/|/videos/|/watch\\?v=|\\.be/)([a-zA-Z0-9_-]{11})', url)\n",
    "    return match.group(1) if match else None\n",
    "\n",
    "def get_transcript_for_video(video_id):\n",
    "    try:\n",
    "        transcript_list = YouTubeTranscriptApi.list_transcripts(video_id)\n",
    "        try:\n",
    "            transcript = transcript_list.find_transcript(['en'])\n",
    "        except NoTranscriptFound:\n",
    "            transcript = next((t for t in transcript_list if t.is_generated), None)\n",
    "            if not transcript:\n",
    "                return None, \"No transcript available.\"\n",
    "        return transcript.fetch(), None\n",
    "    except (NoTranscriptFound, TranscriptsDisabled, VideoUnavailable) as e:\n",
    "        return None, str(e)\n",
    "\n",
    "def process_multiple_youtube_links(url_list):\n",
    "    seen_lines = set()\n",
    "    combined_text = \"\"\n",
    "    multi_video_data[\"videos\"] = []\n",
    "\n",
    "    for url in url_list:\n",
    "        video_id = extract_video_id(url.strip())\n",
    "        if not video_id:\n",
    "            multi_video_data[\"videos\"].append({\"url\": url, \"error\": \"Invalid YouTube URL.\"})\n",
    "            continue\n",
    "\n",
    "        transcript_data, error = get_transcript_for_video(video_id)\n",
    "        if error:\n",
    "            multi_video_data[\"videos\"].append({\"url\": url, \"error\": error})\n",
    "            continue\n",
    "\n",
    "        # Extract transcript text and remove overlapping lines\n",
    "        lines = [seg.text.strip() for seg in transcript_data]\n",
    "        unique_lines = [line for line in lines if line and line not in seen_lines]\n",
    "        for line in unique_lines:\n",
    "            seen_lines.add(line)\n",
    "\n",
    "        merged_text = \" \".join(unique_lines)\n",
    "        multi_video_data[\"videos\"].append({\n",
    "            \"url\": url,\n",
    "            \"video_id\": video_id,\n",
    "            \"transcript\": transcript_data,\n",
    "            \"merged_text\": merged_text\n",
    "        })\n",
    "\n",
    "        combined_text += merged_text + \"\\n\"\n",
    "\n",
    "    multi_video_data[\"combined_text\"] = combined_text.strip()\n"
   ]
  },
  {
   "cell_type": "markdown",
   "metadata": {
    "id": "j4C8Rm2L3UvP"
   },
   "source": [
    "**LLM Interaction with ask_groq**\n",
    "\n",
    " sends a user prompt to the Groq API with a role-specific system message tailored to the learner’s level (Beginner, Intermediate, or Advanced). It returns the generated response or an error message if the API call fails."
   ]
  },
  {
   "cell_type": "code",
   "execution_count": null,
   "metadata": {
    "id": "l8f6xODJUstp"
   },
   "outputs": [],
   "source": [
    "def ask_groq(prompt, level=\"Intermediate\"):\n",
    "    system_msg = {\n",
    "        \"Beginner\": (\n",
    "            \"You are a patient and beginner-friendly Python tutor. \"\n",
    "            \"Use simple language, analogies, and walk through each line of code clearly. \"\n",
    "            \"Avoid technical jargon unless explained.\"\n",
    "        ),\n",
    "        \"Intermediate\": (\n",
    "            \"You are a helpful programming mentor. \"\n",
    "            \"The learner knows syntax but needs help understanding best practices, patterns, and common pitfalls.\"\n",
    "        ),\n",
    "        \"Advanced\": (\n",
    "            \"You are a senior software engineer and technical educator. \"\n",
    "            \"Offer deep, precise explanations with code improvements, edge-case handling, and performance considerations.\"\n",
    "        )\n",
    "    }.get(level, \"You are a helpful and knowledgeable programming assistant.\")\n",
    "\n",
    "    try:\n",
    "        response = client.chat.completions.create(\n",
    "            model=\"llama3-8b-8192\",\n",
    "            messages=[\n",
    "                {\"role\": \"system\", \"content\": system_msg},\n",
    "                {\"role\": \"user\", \"content\": prompt}\n",
    "            ],\n",
    "            temperature=0.5,\n",
    "            max_tokens=4000\n",
    "        )\n",
    "        return response.choices[0].message.content.strip()\n",
    "\n",
    "    except Exception as e:\n",
    "        return f\"Groq API error: {e}\"\n"
   ]
  },
  {
   "cell_type": "markdown",
   "metadata": {
    "id": "FtYuHRfA3bZm"
   },
   "source": [
    "**Transcript Chunking and Topic Tagging**\n",
    "\n",
    "This code splits a YouTube transcript into manageable chunks based on character length or duration, aligning chunks with natural sentence breaks. It then uses the Groq API to generate a title and explanation for each chunk, returning timestamped topic summaries with cleaned text."
   ]
  },
  {
   "cell_type": "code",
   "execution_count": null,
   "metadata": {
    "id": "iSL5emRWuNQP"
   },
   "outputs": [],
   "source": [
    "import re\n",
    "import datetime\n",
    "\n",
    "def format_timestamp(seconds):\n",
    "    return str(datetime.timedelta(seconds=int(seconds)))[2:]  # Outputs MM:SS or HH:MM:SS\n",
    "\n",
    "def chunk_with_timestamps(transcript, max_chars=1200, max_duration=180):\n",
    "    chunks = []\n",
    "    current = {\"start\": None, \"end\": None, \"text\": \"\"}\n",
    "    sentence_end = re.compile(r'([.!?])')  # Sentence-ending punctuation\n",
    "\n",
    "    for seg in transcript:\n",
    "        if current[\"start\"] is None:\n",
    "            current[\"start\"] = seg.start\n",
    "\n",
    "        current[\"end\"] = seg.start + seg.duration\n",
    "        current[\"text\"] += seg.text.strip() + \" \"\n",
    "\n",
    "        current_duration = current[\"end\"] - current[\"start\"]\n",
    "\n",
    "        # Split if max conditions reached\n",
    "        if len(current[\"text\"]) >= max_chars or current_duration >= max_duration:\n",
    "            # Try to split at sentence boundaries\n",
    "            sentences = sentence_end.split(current[\"text\"].strip())\n",
    "            if len(sentences) > 1:\n",
    "                grouped = [\"\".join(pair) for pair in zip(sentences[::2], sentences[1::2])]\n",
    "                partial = \"\"\n",
    "                for s in grouped:\n",
    "                    if len(partial) + len(s) <= max_chars:\n",
    "                        partial += s + \" \"\n",
    "                    else:\n",
    "                        break\n",
    "                current[\"text\"] = partial.strip()\n",
    "\n",
    "            chunks.append(current)\n",
    "            current = {\"start\": None, \"end\": None, \"text\": \"\"}\n",
    "\n",
    "    if current[\"text\"]:\n",
    "        chunks.append(current)\n",
    "\n",
    "    return chunks\n",
    "\n",
    "def clean_and_bullet_text(text):\n",
    "    # Remove markdown chars *, _, `\n",
    "    cleaned = re.sub(r'[\\*\\_`]+', '', text).strip()\n",
    "\n",
    "    # Split into sentences (split by .!? + whitespace)\n",
    "    sentences = re.split(r'(?<=[.!?])\\s+', cleaned)\n",
    "\n",
    "    # Filter out empty sentences and add bullets\n",
    "    bullets = [f\"- {s.strip()}\" for s in sentences if s.strip()]\n",
    "\n",
    "    return \"\\n\".join(bullets)\n",
    "\n",
    "def tag_chunks_with_topics(chunks, level):\n",
    "    tagged = []\n",
    "    for chunk in chunks:\n",
    "        start = format_timestamp(chunk[\"start\"])\n",
    "        end = format_timestamp(chunk[\"end\"])\n",
    "        timestamp = f\"{start}–{end}\"\n",
    "\n",
    "        topic_prompt = (\n",
    "            f\"Give a 1-line title and a 1-line explanation of the following programming content \"\n",
    "            f\"for a {level} learner:\\n\\n{chunk['text']}\"\n",
    "        )\n",
    "        result = ask_groq(topic_prompt, level)\n",
    "\n",
    "        # Extract title (first line) and explanation (rest)\n",
    "        title_match = re.search(r\"^(.*?)\\n\", result.strip())\n",
    "        title = title_match.group(1).strip() if title_match else result.strip().splitlines()[0]\n",
    "        explanation = result.strip().replace(title, \"\", 1).strip()\n",
    "\n",
    "        # Clean title formatting\n",
    "        clean_title = re.sub(r'[\\*\\_`]+', '', title)\n",
    "\n",
    "        # Clean and convert explanation to bullet points\n",
    "        clean_explanation = clean_and_bullet_text(explanation)\n",
    "\n",
    "        tagged.append({\n",
    "            \"timestamp\": timestamp,\n",
    "            \"title\": clean_title,\n",
    "            \"explanation\": clean_explanation,\n",
    "            \"full_text\": chunk[\"text\"].strip()  # optional: keep raw text for reference\n",
    "        })\n",
    "\n",
    "    return tagged\n"
   ]
  },
  {
   "cell_type": "markdown",
   "metadata": {
    "id": "ko6900ZP3fCP"
   },
   "source": [
    "**Quiz Parsing and Generation**\n",
    "\n",
    "Parses raw quiz text into structured questions by extracting question text, options (A–D), and the correct answer using regular expressions.\n",
    "Sends a quiz generation prompt to the Groq API using the video transcript and user level, then parses and returns the formatted quiz questions."
   ]
  },
  {
   "cell_type": "code",
   "execution_count": null,
   "metadata": {
    "id": "NgoUdW_pU9r6"
   },
   "outputs": [],
   "source": [
    "def parse_quiz(raw_text):\n",
    "    questions = []\n",
    "    blocks = re.split(r'\\n(?=Q\\d+:)', raw_text.strip())\n",
    "    for block in blocks:\n",
    "        q_match = re.search(r'Q\\d+:\\s*(.+)', block)\n",
    "        options = re.findall(r'([A-D])\\.\\s*(.+)', block)\n",
    "        answer = re.search(r'Answer\\s*[:\\-]?\\s*([A-D])', block, re.IGNORECASE)\n",
    "        if q_match and options and answer:\n",
    "            questions.append({\n",
    "                \"question\": q_match.group(1).strip(),\n",
    "                \"options\": dict((opt[0], opt[1].strip()) for opt in options),\n",
    "                \"answer\": answer.group(1).strip().upper()\n",
    "            })\n",
    "    return questions\n",
    "\n",
    "\n",
    "def generate_full_video_quiz(full_text, level):\n",
    "    quiz_prompt = f\"\"\"\n",
    "You are a programming tutor. From the following transcript, generate **exactly 5 MCQs**.\n",
    "Each must have 4 options (A-D) with 1 correct answer. Use this format:\n",
    "\n",
    "Q1: <question>\n",
    "A. <option>\n",
    "B. <option>\n",
    "C. <option>\n",
    "D. <option>\n",
    "Answer: <A/B/C/D>\n",
    "\n",
    "Transcript:\n",
    "{full_text[:4000]}\n",
    "\"\"\"\n",
    "    quiz_text = ask_groq(quiz_prompt, level)\n",
    "    return parse_quiz(quiz_text)\n"
   ]
  },
  {
   "cell_type": "markdown",
   "metadata": {
    "id": "YEzYKMGN3nq3"
   },
   "source": [
    "**Topic Explorer**\n",
    "\n",
    " It displays a user interface for exploring specific video topics by timestamp or title. When the user types a keyword or timestamp, it searches the tagged transcript chunks and displays the full explanation for the matching topic, storing the selected topic in a global variable."
   ]
  },
  {
   "cell_type": "code",
   "execution_count": null,
   "metadata": {
    "id": "Px94qJGDBdfc"
   },
   "outputs": [],
   "source": [
    "\n",
    "\n",
    "global_tagged_chunks = {\"data\": [], \"selected_topic\": None, \"level\": None}\n",
    "\n",
    "def show_topic_explorer(tagged):\n",
    "    input_box = widgets.Text(\n",
    "        placeholder=\"Type timestamp or topic keyword (or 'no')\",\n",
    "        layout=widgets.Layout(width='70%')\n",
    "    )\n",
    "    explore_btn = widgets.Button(description=\"Explore Topic\", button_style='info')\n",
    "    output_area = widgets.Output()\n",
    "\n",
    "    def on_explore_click(_):\n",
    "        with output_area:\n",
    "            clear_output(wait=True)\n",
    "            query = input_box.value.strip().lower()\n",
    "            if query == \"no\":\n",
    "                print(\"No topic selected for deep dive.\")\n",
    "                return\n",
    "\n",
    "            found = False\n",
    "            for t in tagged:\n",
    "                if query in t['timestamp'].lower() or query in t['title'].lower():\n",
    "                    display(Markdown(f\"### {t['timestamp']} — {t['title']}\"))\n",
    "                    print(t['explanation'])\n",
    "                    print(\"\\nFull Explanation from Transcript:\\n\")\n",
    "\n",
    "                    # Raw text\n",
    "                    text = t['full_text'].strip()\n",
    "\n",
    "                    # Step 1: Remove ending junk phrases\n",
    "                    ending_patterns = [\n",
    "                        r\"(that's a wrap.*?)$\",\n",
    "                        r\"(thanks for watching.*?)$\",\n",
    "                        r\"(like and subscribe.*?)$\",\n",
    "                        r\"(keep practicing.*?)$\",\n",
    "                        r\"(visit our website.*?)$\",\n",
    "                        r\"(happy coding.*?)$\",\n",
    "                        r\"(for more.*?)(?:$|\\n)\",\n",
    "                        r\"(don't forget.*?)$\"\n",
    "                    ]\n",
    "                    for pattern in ending_patterns:\n",
    "                        text = re.sub(pattern, \"\", text, flags=re.IGNORECASE | re.DOTALL)\n",
    "\n",
    "                    # Step 2: Split into clean sentences\n",
    "                    raw_sentences = re.split(r'(?<=[.?!])\\s+', text)\n",
    "\n",
    "                    # Step 3: Filter out noisy lines (too short or no ending punctuation)\n",
    "                    clean_sentences = [\n",
    "                        s.strip() for s in raw_sentences\n",
    "                        if len(s.strip().split()) >= 3 and re.search(r'[.?!]$', s.strip())\n",
    "                    ]\n",
    "\n",
    "                    # Step 4: Join back for display\n",
    "                    cleaned_text = \" \".join(clean_sentences).strip()\n",
    "\n",
    "                    # Output cleaned explanation\n",
    "                    if cleaned_text:\n",
    "                        print(cleaned_text)\n",
    "                    else:\n",
    "                        print(\"Explanation not available in complete form.\")\n",
    "\n",
    "                    global_tagged_chunks[\"selected_topic\"] = t\n",
    "                    found = True\n",
    "                    break\n",
    "\n",
    "            if not found:\n",
    "                print(\"Topic not found. Try another timestamp or keyword.\")\n",
    "\n",
    "    explore_btn.on_click(on_explore_click)\n",
    "    display(Markdown(\"###  Explore a topic in more detail:\"), input_box, explore_btn, output_area)\n"
   ]
  },
  {
   "cell_type": "markdown",
   "metadata": {
    "id": "utDYJUNm3qj_"
   },
   "source": [
    "**YouTube Video Explainer & Quiz Generator**\n",
    "\n",
    "This code allows users to input YouTube links, select their experience level, and receive a summarized explanation, topic breakdown, and quiz. It uses transcript analysis and LLM-powered prompts to generate educational insights."
   ]
  },
  {
   "cell_type": "code",
   "execution_count": null,
   "metadata": {
    "colab": {
     "base_uri": "https://localhost:8080/",
     "height": 1000,
     "referenced_widgets": [
      "c72217f8149f4377b4de14bd939ef000",
      "03cdee0e694b43779b4d38c1b99ef3ab",
      "78d708aa2c7345868f8be3a378e911e5",
      "90670f9316e74d01a8900264fe973b18",
      "24af13295b884cf6a382e3089a79daa3",
      "8c38d74477904523b464dafb82f77f93",
      "edca423132cf4dfe84ef39e666d39334",
      "bd1d693cece0442e903a21e4e3f64b41",
      "29e15e6a18c540f0bdc6ba90c1fbe654",
      "923452e472d44e94971097cf7e227e66",
      "fbad80d5fc1541ac9f67ee8b790b0ace",
      "9a6657cb0f1a4c31a4a6b53fc636f1de",
      "ae15896cf9154481a81033142e7d38ce",
      "f4b3e8bc121a46a4ac73f8d6a7e2052e",
      "9c72cb80d6e44ed5b6cb041a00f25a01",
      "fac5a49be2d44e9fbb3f564c50455340",
      "4775b4c3948b44be9a7d6dd3244fe486",
      "809e7932eae248549b5e132a793a4833",
      "1f822b042ee1484cb2d7b5226c58e746",
      "42cfc449e86945d5a68c2da8c9d814c8",
      "0a0f6caa549043a6ac2b6e89671d93a2",
      "23042ff6b00b4520aaed51ac14d7821c",
      "b90fd7d2cecb414fb33ff48efd2179b2",
      "9146205c60a0404e805aee29d601d728",
      "6c6949acfe0e4a59872666f29b56be0f"
     ]
    },
    "executionInfo": {
     "elapsed": 36,
     "status": "ok",
     "timestamp": 1752227198239,
     "user": {
      "displayName": "Ambarayya Math",
      "userId": "11597777732568654619"
     },
     "user_tz": -330
    },
    "id": "j7OD7m2L3qj_",
    "outputId": "1566b130-1667-40af-fec2-f983f805bfda"
   },
   "outputs": [
    {
     "data": {
      "text/markdown": [
       "##  Paste YouTube Links and Select Level"
      ],
      "text/plain": [
       "<IPython.core.display.Markdown object>"
      ]
     },
     "metadata": {},
     "output_type": "display_data"
    },
    {
     "data": {
      "application/vnd.jupyter.widget-view+json": {
       "model_id": "c72217f8149f4377b4de14bd939ef000",
       "version_major": 2,
       "version_minor": 0
      },
      "text/plain": [
       "Text(value='https://youtu.be/Gf9wLsCJDqc?si=HbKNII0xlkxidF8H', layout=Layout(width='60%'), placeholder='Paste …"
      ]
     },
     "metadata": {},
     "output_type": "display_data"
    },
    {
     "data": {
      "application/vnd.jupyter.widget-view+json": {
       "model_id": "90670f9316e74d01a8900264fe973b18",
       "version_major": 2,
       "version_minor": 0
      },
      "text/plain": [
       "Dropdown(description='Experience Level:', index=1, options=(('Beginner', 'Beginner'), ('Intermediate', 'Interm…"
      ]
     },
     "metadata": {},
     "output_type": "display_data"
    },
    {
     "data": {
      "application/vnd.jupyter.widget-view+json": {
       "model_id": "edca423132cf4dfe84ef39e666d39334",
       "version_major": 2,
       "version_minor": 0
      },
      "text/plain": [
       "Button(button_style='success', description='Explain', style=ButtonStyle())"
      ]
     },
     "metadata": {},
     "output_type": "display_data"
    },
    {
     "name": "stdout",
     "output_type": "stream",
     "text": [
      "\n",
      " Transcript fetched successfully for Video 1!\n",
      "\n",
      " SUMMARY for Video 1 (Intermediate):\n",
      "Here's a summary of the tutorial on Python variables for an intermediate learner:\n",
      "\n",
      "**Key Takeaways:**\n",
      "\n",
      "1. **Dynamic typing**: Python variables don't need to be declared with a specific type. They can hold different types of data, such as integers, strings, or floats.\n",
      "2. **Assigning values**: Create a variable by assigning a value to it, e.g., `x = 5` or `y = 'John'`.\n",
      "3. **Casting**: Use casting to specify the data type of a variable, e.g., `x = int(4.5)` to convert a float to an integer.\n",
      "4. **Type checking**: Use the `type()` function to check the type of a variable, e.g., `type(x)` returns `str`.\n",
      "5. **String declaration**: Strings can be declared with either single or double quotes, e.g., `'hello'` or `\"hello\"`.\n",
      "6. **Case sensitivity**: Python variable names are case-sensitive, meaning `a` and `A` are different variables.\n",
      "\n",
      "**Best Practices:**\n",
      "\n",
      "1. Use meaningful variable names that describe their purpose.\n",
      "2. Keep variable names consistent in terms of case and style (e.g., use either camelCase or underscore notation).\n",
      "3. Use casting to ensure the correct data type for variables when necessary.\n",
      "4. Use the `type()` function to check the type of variables when debugging.\n",
      "\n",
      "**Common Pitfalls:**\n",
      "\n",
      "1. Forgetting to assign a value to a variable, which can result in a `NameError`.\n",
      "2. Not using casting when necessary, which can lead to unexpected data types.\n",
      "3. Not checking the type of variables, which can make debugging more difficult.\n",
      "\n",
      "By following these guidelines and best practices, you'll be well on your way to mastering Python variables and writing efficient, readable code.\n",
      "\n",
      " TOPIC BREAKDOWN WITH TIMESTAMPS (Video 1):\n",
      "\n",
      "00:00–01:40 — Here is a 1-line title and explanation for an Intermediate learner:\n",
      "- Title: \"Mastering Python Variables: Best Practices and Common Pitfalls\"\n",
      "\n",
      "Explanation: This article provides a comprehensive overview of Python variables, covering their dynamic nature, type casting, and type checking, as well as best practices for naming and quoting strings, with a focus on helping Intermediate learners refine their understanding of variable management in Python.\n",
      "\n",
      "01:40–02:08 — Here is a 1-line title and a 1-line explanation for an Intermediate learner:\n",
      "- Title: \"Python Variables: A Quick Recap\"\n",
      "\n",
      "Explanation: This content provides a concise summary of Python variables, including the concept of variable assignment and the fact that variables hold values without overwriting each other.\n",
      "\n"
     ]
    },
    {
     "data": {
      "text/markdown": [
       "###  Explore a topic in more detail:"
      ],
      "text/plain": [
       "<IPython.core.display.Markdown object>"
      ]
     },
     "metadata": {},
     "output_type": "display_data"
    },
    {
     "data": {
      "application/vnd.jupyter.widget-view+json": {
       "model_id": "923452e472d44e94971097cf7e227e66",
       "version_major": 2,
       "version_minor": 0
      },
      "text/plain": [
       "Text(value='', layout=Layout(width='70%'), placeholder=\"Type timestamp or topic keyword (or 'no')\")"
      ]
     },
     "metadata": {},
     "output_type": "display_data"
    },
    {
     "data": {
      "application/vnd.jupyter.widget-view+json": {
       "model_id": "ae15896cf9154481a81033142e7d38ce",
       "version_major": 2,
       "version_minor": 0
      },
      "text/plain": [
       "Button(button_style='info', description='Explore Topic', style=ButtonStyle())"
      ]
     },
     "metadata": {},
     "output_type": "display_data"
    },
    {
     "data": {
      "application/vnd.jupyter.widget-view+json": {
       "model_id": "fac5a49be2d44e9fbb3f564c50455340",
       "version_major": 2,
       "version_minor": 0
      },
      "text/plain": [
       "Output()"
      ]
     },
     "metadata": {},
     "output_type": "display_data"
    },
    {
     "data": {
      "text/markdown": [
       "###  Answer the Quiz"
      ],
      "text/plain": [
       "<IPython.core.display.Markdown object>"
      ]
     },
     "metadata": {},
     "output_type": "display_data"
    },
    {
     "data": {
      "application/vnd.jupyter.widget-view+json": {
       "model_id": "809e7932eae248549b5e132a793a4833",
       "version_major": 2,
       "version_minor": 0
      },
      "text/plain": [
       "Text(value='', layout=Layout(width='30%'), placeholder='Your answer (A/B/C/D)')"
      ]
     },
     "metadata": {},
     "output_type": "display_data"
    },
    {
     "data": {
      "application/vnd.jupyter.widget-view+json": {
       "model_id": "0a0f6caa549043a6ac2b6e89671d93a2",
       "version_major": 2,
       "version_minor": 0
      },
      "text/plain": [
       "Button(button_style='primary', description='Submit Answer', style=ButtonStyle())"
      ]
     },
     "metadata": {},
     "output_type": "display_data"
    },
    {
     "data": {
      "application/vnd.jupyter.widget-view+json": {
       "model_id": "9146205c60a0404e805aee29d601d728",
       "version_major": 2,
       "version_minor": 0
      },
      "text/plain": [
       "Output()"
      ]
     },
     "metadata": {},
     "output_type": "display_data"
    }
   ],
   "source": [
    "import ipywidgets as widgets\n",
    "from IPython.display import display, Markdown, clear_output\n",
    "\n",
    "# Initialize global store\n",
    "global_tagged_chunks = {}\n",
    "\n",
    "# UI Widgets\n",
    "video_url = widgets.Text(\n",
    "    placeholder=\"Paste one or more YouTube video URLs separated by commas\",\n",
    "    layout=widgets.Layout(width='60%')\n",
    ")\n",
    "\n",
    "level_dropdown = widgets.Dropdown(\n",
    "    options=[('Beginner', 'Beginner'), ('Intermediate', 'Intermediate'), ('Advanced', 'Advanced')],\n",
    "    value='Intermediate',\n",
    "    description='Experience Level:',\n",
    "    style={'description_width': 'initial'}\n",
    ")\n",
    "\n",
    "submit_btn = widgets.Button(description=\"Explain\", button_style='success')\n",
    "\n",
    "display(Markdown(\"##  Paste YouTube Links and Select Level\"))\n",
    "display(video_url, level_dropdown, submit_btn)\n",
    "\n",
    "# Submit Handler\n",
    "def on_submit(btn):\n",
    "    clear_output(wait=True)  #  Clear previous output\n",
    "\n",
    "    # Redisplay input widgets\n",
    "    display(Markdown(\"##  Paste YouTube Links and Select Level\"))\n",
    "    display(video_url, level_dropdown, submit_btn)\n",
    "\n",
    "    urls = [u.strip() for u in video_url.value.strip().split(',') if u.strip()]\n",
    "    user_level = level_dropdown.value\n",
    "\n",
    "    if not urls:\n",
    "        print(\" Please enter at least one valid YouTube URL.\")\n",
    "        return\n",
    "\n",
    "    all_tagged = []\n",
    "    combined_text = \"\"\n",
    "    all_summaries = []\n",
    "    processed_videos_count = 0 # Counter for successfully processed videos\n",
    "\n",
    "    for idx, url in enumerate(urls):\n",
    "        video_id = extract_video_id(url)\n",
    "        if not video_id:\n",
    "            print(f\" Error for video {idx+1}: Invalid YouTube URL.\")\n",
    "            continue\n",
    "\n",
    "        transcript_data, error = get_transcript_for_video(video_id)\n",
    "        if error:\n",
    "            print(f\" Error for video {idx+1}: {error}\")\n",
    "            continue\n",
    "\n",
    "        print(f\"\\n Transcript fetched successfully for Video {idx+1}!\")\n",
    "        full_text = \" \".join([seg.text for seg in transcript_data])\n",
    "        combined_text += full_text + \"\\n\\n\"\n",
    "\n",
    "        summary = ask_groq(\n",
    "            f\"Summarize this programming tutorial for a {user_level} learner:\\n\\n{full_text}\",\n",
    "            user_level\n",
    "        )\n",
    "        all_summaries.append(summary)\n",
    "\n",
    "        print(f\"\\n SUMMARY for Video {idx+1} ({user_level}):\\n{summary}\")\n",
    "\n",
    "        chunks = chunk_with_timestamps(transcript_data)\n",
    "        tagged = tag_chunks_with_topics(chunks, user_level)\n",
    "        all_tagged.extend(tagged)\n",
    "\n",
    "        print(f\"\\n TOPIC BREAKDOWN WITH TIMESTAMPS (Video {idx+1}):\\n\")\n",
    "        for t in tagged:\n",
    "            print(f\"{t['timestamp']} — {t['title']}\\n{t['explanation']}\\n\")\n",
    "\n",
    "        processed_videos_count += 1 # Increment counter for successful video\n",
    "\n",
    "    if not combined_text:\n",
    "        print(\" No valid videos processed.\")\n",
    "        return\n",
    "\n",
    "    # Unified summary only if multiple videos were successfully processed\n",
    "    if processed_videos_count > 1:\n",
    "      print(\"\\n Generating unified comparative summary from multiple videos...\")\n",
    "      merged_summary = ask_groq(\n",
    "          f\"\"\"These are summaries of Python programming videos on the same topic.\n",
    "Please generate a single explanation by selecting the best parts, avoiding overlaps or repetition.\n",
    "Target level: {user_level}.\\n\\n\"\"\" + \"\\n\\n\".join(all_summaries),\n",
    "          user_level\n",
    "      )\n",
    "      print(f\"\\n UNIFIED COMPARATIVE SUMMARY ({user_level}):\\n{merged_summary}\")\n",
    "\n",
    "\n",
    "    # Store topic data for explorer and quiz\n",
    "    global_tagged_chunks[\"data\"] = all_tagged\n",
    "    global_tagged_chunks[\"level\"] = user_level\n",
    "\n",
    "    show_topic_explorer(all_tagged)\n",
    "\n",
    "    # Quiz Generation\n",
    "    quiz_questions = generate_full_video_quiz(combined_text, user_level)\n",
    "    if not quiz_questions:\n",
    "        print(\" Could not generate quiz.\")\n",
    "        return\n",
    "\n",
    "    quiz_index = 0\n",
    "    score = 0\n",
    "    user_answers = []\n",
    "    quiz_output = widgets.Output()\n",
    "    answer_box = widgets.Text(placeholder=\"Your answer (A/B/C/D)\", layout=widgets.Layout(width='30%'))\n",
    "    submit_answer = widgets.Button(description=\"Submit Answer\", button_style=\"primary\")\n",
    "\n",
    "    def show_question(index):\n",
    "        quiz_output.clear_output()\n",
    "        with quiz_output:\n",
    "            if index < len(quiz_questions):\n",
    "                q = quiz_questions[index]\n",
    "                print(f\"\\n Q{index+1}: {q['question']}\")\n",
    "                for k, v in q['options'].items():\n",
    "                    print(f\"  {k}. {v}\")\n",
    "            else:\n",
    "                print(f\"\\n Quiz Completed!\\n Your Score: {score}/{len(quiz_questions)}\")\n",
    "                print(\"\\n Review Your Answers:\")\n",
    "                for idx, q in enumerate(quiz_questions):\n",
    "                    user_ans = user_answers[idx]\n",
    "                    correct_ans = q[\"answer\"]\n",
    "                    correctness = \" Correct\" if user_ans == correct_ans else f\" Incorrect (Correct: {correct_ans})\"\n",
    "                    print(f\"\\nQ{idx + 1}: {q['question']}\")\n",
    "                    for opt_key, opt_text in q['options'].items():\n",
    "                        print(f\"  {opt_key}. {opt_text}\")\n",
    "                    print(f\"Your Answer: {user_ans} — {correctness}\")\n",
    "\n",
    "    def on_answer_submit(_):\n",
    "        nonlocal quiz_index, score\n",
    "        user_ans = answer_box.value.strip().upper()\n",
    "        if not user_ans or quiz_index >= len(quiz_questions):\n",
    "            return\n",
    "        current_q = quiz_questions[quiz_index]\n",
    "        user_answers.append(user_ans)\n",
    "        quiz_output.clear_output()\n",
    "        with quiz_output:\n",
    "            if user_ans == current_q['answer']:\n",
    "                print(\" Correct!\")\n",
    "                score += 1\n",
    "            else:\n",
    "                print(f\" Incorrect. Correct Answer: {current_q['answer']}: {current_q['options'][current_q['answer']]}\")\n",
    "            quiz_index += 1\n",
    "            show_question(quiz_index)\n",
    "\n",
    "    submit_answer.on_click(on_answer_submit)\n",
    "    display(Markdown(\"###  Answer the Quiz\"), answer_box, submit_answer, quiz_output)\n",
    "    show_question(quiz_index)\n",
    "\n",
    "# Bind the button at the end\n",
    "submit_btn.on_click(on_submit)"
   ]
  },
  {
   "cell_type": "markdown",
   "metadata": {
    "id": "MBz4zlscIpbN"
   },
   "source": [
    "**Code Debugger**\n",
    "\n",
    " Upload or paste Python code and get explanations or fixes using a language model. It customizes responses based on the user's selected skill level."
   ]
  },
  {
   "cell_type": "code",
   "execution_count": null,
   "metadata": {
    "colab": {
     "base_uri": "https://localhost:8080/",
     "height": 969,
     "referenced_widgets": [
      "db14cb5b219d4983a203a3bfa391404e",
      "c5fbc08245654cdfb21b98e73387e003",
      "e7036c87682340d08bd2fbead1279687",
      "4a66b45f2245441f98bf1e38ae65eef3",
      "0f9cf89d86eb49c3903407f2f821aebc",
      "1d14a0cc6c004a37a3c3d4bebc335081",
      "633265086c0847328436e4143638016f",
      "21db69d137f64afab3bd27c4091578e5",
      "fb6764caf87d4350a34a63e3a376c7c4",
      "8b284dc42f0a408a8032f559d613c128",
      "49674241fe3a47a78826eac531390ee3",
      "361f4839f8134471a5a8ed31da83d3ca",
      "d776af5b0f9e4491a09ca118b2b89f97",
      "7d7fc69ae0ba47cea7db0d04a40fd6de",
      "ca8dfdc038954eeb965b960acea21250",
      "2c2544cc58d549f58a2b908fb842523e",
      "903060d17d30419cbeffe13d6b08d718",
      "6356dd6d22b24cd896e7828ab0bf5ee3",
      "e387ea3bd8fa4f85b91f4ef0847ac2b7",
      "1496758b2eb240c7b4af807284cb3e9b",
      "ed26138ca2254fe3980464ae221aac7e",
      "4b1d8cc9847c46438dae4e7bcaf68b1b",
      "593a8d1a04b54a7bb6236cac3eb2960e",
      "1d23a83f4e674b1389dee8f7bc17a8f5",
      "5121d1ac3cd34808b486339a74ca1802",
      "11a52a16c4e34853ad1c1f696c279ed7",
      "1fb1619dde2e477089dad0c5fce94bfb",
      "2ae6833286c549bd9242936160922f63",
      "d261ed9017d4412e986f83eaa2977a73",
      "5a1dd2dd30ce46f08e7cb4c4af614cfa"
     ]
    },
    "executionInfo": {
     "elapsed": 96,
     "status": "ok",
     "timestamp": 1752226836578,
     "user": {
      "displayName": "Ambarayya Math",
      "userId": "11597777732568654619"
     },
     "user_tz": -330
    },
    "id": "V6PsJkYOIoUe",
    "outputId": "5aeea65d-fb85-4c0a-f259-cc6a7ebed85c"
   },
   "outputs": [
    {
     "data": {
      "application/vnd.jupyter.widget-view+json": {
       "model_id": "db14cb5b219d4983a203a3bfa391404e",
       "version_major": 2,
       "version_minor": 0
      },
      "text/plain": [
       "VBox(children=(Output(), Textarea(value='', description='Code:', layout=Layout(height='200px', width='100%'), …"
      ]
     },
     "metadata": {},
     "output_type": "display_data"
    }
   ],
   "source": [
    "from IPython.display import display, Markdown, Code, clear_output\n",
    "import ipywidgets as widgets\n",
    "\n",
    "# --- UI Elements ---\n",
    "code_box = widgets.Textarea(\n",
    "    value='',\n",
    "    placeholder='Paste your Python code here...',\n",
    "    description='Code:',\n",
    "    layout=widgets.Layout(width='100%', height='200px')\n",
    ")\n",
    "\n",
    "upload = widgets.FileUpload(\n",
    "    accept='.py',\n",
    "    multiple=False,\n",
    "    description='Upload .py File',\n",
    "    style={'description_width': 'initial'}\n",
    ")\n",
    "\n",
    "prompt_box = widgets.Text(\n",
    "    value='',\n",
    "    placeholder='Optional: Explain, debug, optimize...',\n",
    "    description='Prompt:',\n",
    "    layout=widgets.Layout(width='100%')\n",
    ")\n",
    "\n",
    "level_dropdown = widgets.Dropdown(\n",
    "    options=['Beginner', 'Intermediate', 'Advanced'],\n",
    "    value='Intermediate',\n",
    "    description='Level:',\n",
    "    style={'description_width': 'initial'}\n",
    ")\n",
    "\n",
    "run_button = widgets.Button(description=\"Run\", button_style='success')\n",
    "clear_button = widgets.Button(description=\"Clear\", button_style='warning')\n",
    "\n",
    "output = widgets.Output()\n",
    "markdown_output = widgets.Output()\n",
    "\n",
    "# --- Layout ---\n",
    "ui = widgets.VBox([\n",
    "    markdown_output,\n",
    "    code_box,\n",
    "    upload,\n",
    "    prompt_box,\n",
    "    widgets.HBox([level_dropdown, run_button, clear_button]),\n",
    "    output\n",
    "])\n",
    "display(ui)\n",
    "\n",
    "# --- Markdown Intro ---\n",
    "with markdown_output:\n",
    "    display(Markdown(\"###  Paste Python code or upload a `.py` file for explanation/debugging\"))\n",
    "\n",
    "# --- File Upload Handler ---\n",
    "def on_upload_change(change):\n",
    "    if upload.value:\n",
    "        uploaded_file = next(iter(upload.value.values()))\n",
    "        file_content = uploaded_file['content'].decode('utf-8')\n",
    "        code_box.value = file_content\n",
    "        upload.value.clear()  # Reset upload\n",
    "\n",
    "upload.observe(on_upload_change, names='value')\n",
    "\n",
    "# --- Prompt Generator ---\n",
    "def get_default_prompt(level):\n",
    "    return {\n",
    "        \"Beginner\": \"Explain this code in simple language, point out errors, and suggest improvements.\",\n",
    "        \"Intermediate\": \"Debug this code, explain its purpose, and provide enhancements if needed.\",\n",
    "        \"Advanced\": \"Perform an in-depth analysis of this code, optimize it, and address edge cases.\"\n",
    "    }.get(level, \"Explain this code and fix any errors.\")\n",
    "\n",
    "def build_prompt(code, prompt, level):\n",
    "    if not prompt:\n",
    "        prompt = get_default_prompt(level)\n",
    "    return f\"{prompt}\\n\\n```python\\n{code}\\n```\"\n",
    "\n",
    "# --- Run Handler ---\n",
    "def run_debugger(_):\n",
    "    output.clear_output()\n",
    "    code_to_debug = code_box.value.strip()\n",
    "    user_instruction = prompt_box.value.strip()\n",
    "    user_level = level_dropdown.value\n",
    "\n",
    "    if not code_to_debug:\n",
    "        with output:\n",
    "            print(\" Please paste code or upload a .py file.\")\n",
    "        return\n",
    "\n",
    "    full_prompt = build_prompt(code_to_debug, user_instruction, user_level)\n",
    "\n",
    "    with output:\n",
    "        print(\" Asking CodeSensei...\")\n",
    "        response = ask_groq(full_prompt, user_level)  # assumes Groq API wrapper is defined\n",
    "        clear_output(wait=True)\n",
    "        display(Markdown(\"####  Your Code\"))\n",
    "        display(Code(code_to_debug, language='python'))\n",
    "\n",
    "        # Accordion with feedback\n",
    "        accordion = widgets.Accordion(children=[widgets.Output()])\n",
    "        with accordion.children[0]:\n",
    "            # Removed Prompt Used line\n",
    "            display(Markdown(f\"**Skill Level:** {user_level}\"))\n",
    "            print(response)\n",
    "        accordion.set_title(0, \" CodeSensei's Feedback\")\n",
    "        display(accordion)\n",
    "\n",
    "\n",
    "# --- Clear Handler ---\n",
    "def clear_ui(_):\n",
    "    code_box.value = \"\"\n",
    "    prompt_box.value = \"\"\n",
    "    upload.value.clear()\n",
    "    output.clear_output()\n",
    "    markdown_output.clear_output()\n",
    "    with markdown_output:\n",
    "        display(Markdown(\"###  Paste Python code or upload a `.py` file for explanation/debugging\"))\n",
    "\n",
    "# --- Bind Events ---\n",
    "run_button.on_click(run_debugger)\n",
    "clear_button.on_click(clear_ui)\n"
   ]
  }
 ],
 "metadata": {
  "colab": {
   "provenance": []
  },
  "kernelspec": {
   "display_name": "Python 3",
   "name": "python3"
  },
  "language_info": {
   "name": "python"
  }
 },
 "nbformat": 4,
 "nbformat_minor": 0
}
